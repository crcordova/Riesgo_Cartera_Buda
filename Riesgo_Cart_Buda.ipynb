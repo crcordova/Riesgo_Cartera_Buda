{
 "cells": [
  {
   "cell_type": "code",
   "execution_count": 1,
   "source": [
    "import base64\n",
    "import hmac\n",
    "import time\n",
    "import requests.auth\n",
    "import requests\n",
    "import pandas as pd\n",
    "\n",
    "class BudaHMACAuth(requests.auth.AuthBase):\n",
    "    \"\"\"Adjunta la autenticación HMAC de Buda al objeto Request.\"\"\"\n",
    "\n",
    "    def __init__(self, api_key: str, secret: str):\n",
    "        self.api_key = api_key\n",
    "        self.secret = secret\n",
    "\n",
    "    def get_nonce(self) -> str:\n",
    "        # 1. Generar un nonce (timestamp en microsegundos)\n",
    "        return str(int(time.time() * 1e6))\n",
    "\n",
    "    def sign(self, r, nonce: str) -> str:\n",
    "        # 2. Preparar string para firmar\n",
    "        components = [r.method, r.path_url]\n",
    "        if r.body:\n",
    "            encoded_body = base64.b64encode(r.body).decode()\n",
    "            components.append(encoded_body)\n",
    "        components.append(nonce)\n",
    "        msg = ' '.join(components)\n",
    "        # 3. Obtener la firma\n",
    "        h = hmac.new(key=self.secret.encode(),\n",
    "                        msg=msg.encode(),\n",
    "                        digestmod='sha384')\n",
    "        signature = h.hexdigest()\n",
    "        return signature\n",
    "\n",
    "    def __call__(self, r):\n",
    "        nonce = self.get_nonce()\n",
    "        signature = self.sign(r, nonce)\n",
    "        # 4. Adjuntar API-KEY, nonce y firma al header del request\n",
    "        r.headers['X-SBTC-APIKEY'] = self.api_key\n",
    "        r.headers['X-SBTC-NONCE'] = nonce\n",
    "        r.headers['X-SBTC-SIGNATURE'] = signature\n",
    "        return r\n",
    "        \n",
    "def last_price(market_id, fiat='clp'):\n",
    "    market_id = market_id.lower() + '-' + fiat.lower()\n",
    "    url = f'https://www.buda.com/api/v2/markets/{market_id}/ticker'\n",
    "    response = requests.get(url)\n",
    "    ticker_info = response.json()\n",
    "    return float(ticker_info['ticker']['last_price'][0])\n",
    "# Para autenticar una llamada se debe incluir `auth` en el request\n",
    "api_key = ''\n",
    "secret = ''"
   ],
   "outputs": [],
   "metadata": {}
  },
  {
   "cell_type": "code",
   "execution_count": 2,
   "source": [
    "url = f'https://www.buda.com/api/v2/balances'\n",
    "auth = BudaHMACAuth(api_key, secret)\n",
    "response = requests.get(url, auth=auth)\n",
    "balances = response.json()['balances']"
   ],
   "outputs": [],
   "metadata": {}
  },
  {
   "cell_type": "code",
   "execution_count": 3,
   "source": [
    "portfolio = []\n",
    "for x in balances:\n",
    "    portfolio.append(x['amount'])\n",
    "    \n",
    "df = pd.DataFrame(portfolio, columns=['Cantidad', 'Activo'], dtype=float)\n",
    "# esto funcionara solo si tenemos una moneda FIAT\n",
    "fiat = 'CLP' # modificar si usas otra fiat\n",
    "df = df[df['Activo']!=fiat] # Saco Fiat Currency del portfolio\n",
    "df['Precio'] = df['Activo'].apply(last_price)\n",
    "df['Pos'] = df['Cantidad'] * df['Precio']"
   ],
   "outputs": [],
   "metadata": {}
  },
  {
   "cell_type": "code",
   "execution_count": 6,
   "source": [
    "# Detalle de la cartera valoriza en FIAT (columna Pos)\n",
    "df"
   ],
   "outputs": [
    {
     "output_type": "execute_result",
     "data": {
      "text/plain": [
       "     Cantidad Activo       Precio           Pos\n",
       "0    0.722332    BCH    498529.00  3.601032e+05\n",
       "1    0.012806    BTC  50500000.00  6.467202e+05\n",
       "3    0.378828    ETH   3648344.00  1.382094e+06\n",
       "4    2.573590    LTC    162403.00  4.179588e+05\n",
       "5  163.650430   USDC       815.01  1.333767e+05"
      ],
      "text/html": [
       "<div>\n",
       "<style scoped>\n",
       "    .dataframe tbody tr th:only-of-type {\n",
       "        vertical-align: middle;\n",
       "    }\n",
       "\n",
       "    .dataframe tbody tr th {\n",
       "        vertical-align: top;\n",
       "    }\n",
       "\n",
       "    .dataframe thead th {\n",
       "        text-align: right;\n",
       "    }\n",
       "</style>\n",
       "<table border=\"1\" class=\"dataframe\">\n",
       "  <thead>\n",
       "    <tr style=\"text-align: right;\">\n",
       "      <th></th>\n",
       "      <th>Cantidad</th>\n",
       "      <th>Activo</th>\n",
       "      <th>Precio</th>\n",
       "      <th>Pos</th>\n",
       "    </tr>\n",
       "  </thead>\n",
       "  <tbody>\n",
       "    <tr>\n",
       "      <th>0</th>\n",
       "      <td>0.722332</td>\n",
       "      <td>BCH</td>\n",
       "      <td>498529.00</td>\n",
       "      <td>3.601032e+05</td>\n",
       "    </tr>\n",
       "    <tr>\n",
       "      <th>1</th>\n",
       "      <td>0.012806</td>\n",
       "      <td>BTC</td>\n",
       "      <td>50500000.00</td>\n",
       "      <td>6.467202e+05</td>\n",
       "    </tr>\n",
       "    <tr>\n",
       "      <th>3</th>\n",
       "      <td>0.378828</td>\n",
       "      <td>ETH</td>\n",
       "      <td>3648344.00</td>\n",
       "      <td>1.382094e+06</td>\n",
       "    </tr>\n",
       "    <tr>\n",
       "      <th>4</th>\n",
       "      <td>2.573590</td>\n",
       "      <td>LTC</td>\n",
       "      <td>162403.00</td>\n",
       "      <td>4.179588e+05</td>\n",
       "    </tr>\n",
       "    <tr>\n",
       "      <th>5</th>\n",
       "      <td>163.650430</td>\n",
       "      <td>USDC</td>\n",
       "      <td>815.01</td>\n",
       "      <td>1.333767e+05</td>\n",
       "    </tr>\n",
       "  </tbody>\n",
       "</table>\n",
       "</div>"
      ]
     },
     "metadata": {},
     "execution_count": 6
    }
   ],
   "metadata": {}
  },
  {
   "cell_type": "code",
   "execution_count": 7,
   "source": [
    "# Utilizo precio de la API de kraken,\n",
    "# Desarrollar un forma de obtener datos historicos con la API de Buda.com??\n",
    "import krakenex\n",
    "from pykrakenapi import KrakenAPI\n",
    "api = krakenex.API()\n",
    "k = KrakenAPI(api)\n",
    "# interval: {1, 5, 15, 30, 60, 240, 1440, 10080, 21600}..\n",
    "\n",
    "data_hist = {}\n",
    "# Realizo multiples llamadas para obtener el historico de cada activo\n",
    "for i in df['Activo']:\n",
    "    coin= i+'USD'\n",
    "    data_hist[i] = k.get_ohlc_data(coin, interval=240, ascending = True)[0][['close']].rename(columns={'close':i})"
   ],
   "outputs": [
    {
     "output_type": "stream",
     "name": "stdout",
     "text": [
      "public call frequency exceeded (seconds=0.463359) \n",
      " sleeping for 5 seconds\n",
      "public call frequency exceeded (seconds=0.425006) \n",
      " sleeping for 5 seconds\n"
     ]
    }
   ],
   "metadata": {}
  },
  {
   "cell_type": "code",
   "execution_count": 8,
   "source": [
    "import numpy as np\n",
    "def maxdowndraw(df):\n",
    "    df = np.log(df) - np.log(df.shift(1))\n",
    "    mini = df.min()[0]\n",
    "    mxdd2 = (df.shift(1) + df).min()[0]\n",
    "    mxdd3 = (df.shift(2) + df.shift(1) + df).min()[0]\n",
    "    mxdd4 = (df.shift(3) +df.shift(2) + df.shift(1) + df).min()[0]\n",
    "    mxdd5 = (df.shift(4) +df.shift(3) +df.shift(2) + df.shift(1) + df).min()[0]\n",
    "    # mxdd = min([mini, mxdd2, mxdd3, mxdd4, mxdd5])\n",
    "    return min([mini, mxdd2, mxdd3, mxdd4, mxdd5])\n",
    "\n",
    "def cvar(df, q=0.02):\n",
    "    df = df.pct_change()\n",
    "    df = df[df[df.columns[0]]<= df.quantile(q)[0]] \n",
    "    return df.mean()[0]\n"
   ],
   "outputs": [],
   "metadata": {}
  },
  {
   "cell_type": "markdown",
   "source": [
    "VAR is the maximum loss over a target horizon such that there is a low, prespec- ified probability that the actual loss will be larger."
   ],
   "metadata": {}
  },
  {
   "cell_type": "code",
   "execution_count": 9,
   "source": [
    "# Medidas de Riesgo Estaticas\n",
    "\n",
    "# Desviacion Estandar del activo\n",
    "df['std'] = df['Activo'].apply(lambda x: data_hist[x].pct_change().std()[0])\n",
    "\n",
    "# Var99% de cada activo\n",
    "df['VaR(99%)'] = df['Activo'].apply(lambda x: data_hist[x].pct_change().quantile(0.01)[0])\n",
    "\n",
    "# promedio del 2% de los peores retornos\n",
    "df['CVaR(98%)'] = df['Activo'].apply(lambda x: cvar(data_hist[x]))\n",
    "\n",
    "# Peor Retorno\n",
    "df['Ret_min'] = df['Activo'].apply(lambda x: data_hist[x].pct_change().min()[0])\n",
    "\n",
    "# Peor Retorno acumulado en 5 periodos\n",
    "df['MaxDD5'] = df['Activo'].apply(lambda x: maxdowndraw(data_hist[x]))"
   ],
   "outputs": [],
   "metadata": {}
  },
  {
   "cell_type": "code",
   "execution_count": 12,
   "source": [
    "df_ret = pd.concat(data_hist, axis = 1).pct_change().dropna()\n",
    "df_ret.columns = [(col[0]) for col in df_ret.columns.values]\n",
    "# Retornos * Posicion\n",
    "df_ret = df_ret.mul(df['Pos'].values)"
   ],
   "outputs": [],
   "metadata": {}
  },
  {
   "cell_type": "code",
   "execution_count": 14,
   "source": [
    "# resumen metricas de riesgo resultado porcentual, para obtenerlo en pesos multiplicar Pos por cada metrica de riesgo\n",
    "df"
   ],
   "outputs": [
    {
     "output_type": "execute_result",
     "data": {
      "text/plain": [
       "     Cantidad Activo       Precio           Pos       std  VaR(99%)  \\\n",
       "0    0.722332    BCH    498529.00  3.601032e+05  0.017352 -0.042063   \n",
       "1    0.012806    BTC  50500000.00  6.467202e+05  0.014478 -0.033107   \n",
       "3    0.378828    ETH   3648344.00  1.382094e+06  0.017878 -0.042415   \n",
       "4    2.573590    LTC    162403.00  4.179588e+05  0.019147 -0.046646   \n",
       "5  163.650430   USDC       815.01  1.333767e+05  0.000083 -0.000200   \n",
       "\n",
       "   CVaR(98%)   Ret_min    MaxDD5  \n",
       "0  -0.049146 -0.098887 -0.187149  \n",
       "1  -0.039731 -0.082624 -0.122455  \n",
       "3  -0.047461 -0.083790 -0.140865  \n",
       "4  -0.053501 -0.130510 -0.212889  \n",
       "5  -0.000200 -0.000200 -0.000200  "
      ],
      "text/html": [
       "<div>\n",
       "<style scoped>\n",
       "    .dataframe tbody tr th:only-of-type {\n",
       "        vertical-align: middle;\n",
       "    }\n",
       "\n",
       "    .dataframe tbody tr th {\n",
       "        vertical-align: top;\n",
       "    }\n",
       "\n",
       "    .dataframe thead th {\n",
       "        text-align: right;\n",
       "    }\n",
       "</style>\n",
       "<table border=\"1\" class=\"dataframe\">\n",
       "  <thead>\n",
       "    <tr style=\"text-align: right;\">\n",
       "      <th></th>\n",
       "      <th>Cantidad</th>\n",
       "      <th>Activo</th>\n",
       "      <th>Precio</th>\n",
       "      <th>Pos</th>\n",
       "      <th>std</th>\n",
       "      <th>VaR(99%)</th>\n",
       "      <th>CVaR(98%)</th>\n",
       "      <th>Ret_min</th>\n",
       "      <th>MaxDD5</th>\n",
       "    </tr>\n",
       "  </thead>\n",
       "  <tbody>\n",
       "    <tr>\n",
       "      <th>0</th>\n",
       "      <td>0.722332</td>\n",
       "      <td>BCH</td>\n",
       "      <td>498529.00</td>\n",
       "      <td>3.601032e+05</td>\n",
       "      <td>0.017352</td>\n",
       "      <td>-0.042063</td>\n",
       "      <td>-0.049146</td>\n",
       "      <td>-0.098887</td>\n",
       "      <td>-0.187149</td>\n",
       "    </tr>\n",
       "    <tr>\n",
       "      <th>1</th>\n",
       "      <td>0.012806</td>\n",
       "      <td>BTC</td>\n",
       "      <td>50500000.00</td>\n",
       "      <td>6.467202e+05</td>\n",
       "      <td>0.014478</td>\n",
       "      <td>-0.033107</td>\n",
       "      <td>-0.039731</td>\n",
       "      <td>-0.082624</td>\n",
       "      <td>-0.122455</td>\n",
       "    </tr>\n",
       "    <tr>\n",
       "      <th>3</th>\n",
       "      <td>0.378828</td>\n",
       "      <td>ETH</td>\n",
       "      <td>3648344.00</td>\n",
       "      <td>1.382094e+06</td>\n",
       "      <td>0.017878</td>\n",
       "      <td>-0.042415</td>\n",
       "      <td>-0.047461</td>\n",
       "      <td>-0.083790</td>\n",
       "      <td>-0.140865</td>\n",
       "    </tr>\n",
       "    <tr>\n",
       "      <th>4</th>\n",
       "      <td>2.573590</td>\n",
       "      <td>LTC</td>\n",
       "      <td>162403.00</td>\n",
       "      <td>4.179588e+05</td>\n",
       "      <td>0.019147</td>\n",
       "      <td>-0.046646</td>\n",
       "      <td>-0.053501</td>\n",
       "      <td>-0.130510</td>\n",
       "      <td>-0.212889</td>\n",
       "    </tr>\n",
       "    <tr>\n",
       "      <th>5</th>\n",
       "      <td>163.650430</td>\n",
       "      <td>USDC</td>\n",
       "      <td>815.01</td>\n",
       "      <td>1.333767e+05</td>\n",
       "      <td>0.000083</td>\n",
       "      <td>-0.000200</td>\n",
       "      <td>-0.000200</td>\n",
       "      <td>-0.000200</td>\n",
       "      <td>-0.000200</td>\n",
       "    </tr>\n",
       "  </tbody>\n",
       "</table>\n",
       "</div>"
      ]
     },
     "metadata": {},
     "execution_count": 14
    }
   ],
   "metadata": {}
  },
  {
   "cell_type": "code",
   "execution_count": 16,
   "source": [
    "import plotly.graph_objects as go\n",
    "labels = df_ret.columns.values.tolist()\n",
    "values = [x * -1 for x in df_ret.quantile(0.01).values.tolist() ]\n",
    "\n",
    "fig = go.Figure(data=[go.Pie(labels=labels, values=values)], layout=go.Layout( title=go.layout.Title(text=\"Riesgo Distribuido por Activo\")))\n",
    "fig.show()"
   ],
   "outputs": [
    {
     "output_type": "display_data",
     "data": {
      "application/vnd.plotly.v1+json": {
       "config": {
        "plotlyServerURL": "https://plot.ly"
       },
       "data": [
        {
         "labels": [
          "BCH",
          "BTC",
          "ETH",
          "LTC",
          "USDC"
         ],
         "type": "pie",
         "values": [
          15147.092663001758,
          21411.07543941956,
          58621.88321912904,
          19496.3036245522,
          26.672680122852146
         ]
        }
       ],
       "layout": {
        "template": {
         "data": {
          "bar": [
           {
            "error_x": {
             "color": "#2a3f5f"
            },
            "error_y": {
             "color": "#2a3f5f"
            },
            "marker": {
             "line": {
              "color": "#E5ECF6",
              "width": 0.5
             },
             "pattern": {
              "fillmode": "overlay",
              "size": 10,
              "solidity": 0.2
             }
            },
            "type": "bar"
           }
          ],
          "barpolar": [
           {
            "marker": {
             "line": {
              "color": "#E5ECF6",
              "width": 0.5
             },
             "pattern": {
              "fillmode": "overlay",
              "size": 10,
              "solidity": 0.2
             }
            },
            "type": "barpolar"
           }
          ],
          "carpet": [
           {
            "aaxis": {
             "endlinecolor": "#2a3f5f",
             "gridcolor": "white",
             "linecolor": "white",
             "minorgridcolor": "white",
             "startlinecolor": "#2a3f5f"
            },
            "baxis": {
             "endlinecolor": "#2a3f5f",
             "gridcolor": "white",
             "linecolor": "white",
             "minorgridcolor": "white",
             "startlinecolor": "#2a3f5f"
            },
            "type": "carpet"
           }
          ],
          "choropleth": [
           {
            "colorbar": {
             "outlinewidth": 0,
             "ticks": ""
            },
            "type": "choropleth"
           }
          ],
          "contour": [
           {
            "colorbar": {
             "outlinewidth": 0,
             "ticks": ""
            },
            "colorscale": [
             [
              0,
              "#0d0887"
             ],
             [
              0.1111111111111111,
              "#46039f"
             ],
             [
              0.2222222222222222,
              "#7201a8"
             ],
             [
              0.3333333333333333,
              "#9c179e"
             ],
             [
              0.4444444444444444,
              "#bd3786"
             ],
             [
              0.5555555555555556,
              "#d8576b"
             ],
             [
              0.6666666666666666,
              "#ed7953"
             ],
             [
              0.7777777777777778,
              "#fb9f3a"
             ],
             [
              0.8888888888888888,
              "#fdca26"
             ],
             [
              1,
              "#f0f921"
             ]
            ],
            "type": "contour"
           }
          ],
          "contourcarpet": [
           {
            "colorbar": {
             "outlinewidth": 0,
             "ticks": ""
            },
            "type": "contourcarpet"
           }
          ],
          "heatmap": [
           {
            "colorbar": {
             "outlinewidth": 0,
             "ticks": ""
            },
            "colorscale": [
             [
              0,
              "#0d0887"
             ],
             [
              0.1111111111111111,
              "#46039f"
             ],
             [
              0.2222222222222222,
              "#7201a8"
             ],
             [
              0.3333333333333333,
              "#9c179e"
             ],
             [
              0.4444444444444444,
              "#bd3786"
             ],
             [
              0.5555555555555556,
              "#d8576b"
             ],
             [
              0.6666666666666666,
              "#ed7953"
             ],
             [
              0.7777777777777778,
              "#fb9f3a"
             ],
             [
              0.8888888888888888,
              "#fdca26"
             ],
             [
              1,
              "#f0f921"
             ]
            ],
            "type": "heatmap"
           }
          ],
          "heatmapgl": [
           {
            "colorbar": {
             "outlinewidth": 0,
             "ticks": ""
            },
            "colorscale": [
             [
              0,
              "#0d0887"
             ],
             [
              0.1111111111111111,
              "#46039f"
             ],
             [
              0.2222222222222222,
              "#7201a8"
             ],
             [
              0.3333333333333333,
              "#9c179e"
             ],
             [
              0.4444444444444444,
              "#bd3786"
             ],
             [
              0.5555555555555556,
              "#d8576b"
             ],
             [
              0.6666666666666666,
              "#ed7953"
             ],
             [
              0.7777777777777778,
              "#fb9f3a"
             ],
             [
              0.8888888888888888,
              "#fdca26"
             ],
             [
              1,
              "#f0f921"
             ]
            ],
            "type": "heatmapgl"
           }
          ],
          "histogram": [
           {
            "marker": {
             "pattern": {
              "fillmode": "overlay",
              "size": 10,
              "solidity": 0.2
             }
            },
            "type": "histogram"
           }
          ],
          "histogram2d": [
           {
            "colorbar": {
             "outlinewidth": 0,
             "ticks": ""
            },
            "colorscale": [
             [
              0,
              "#0d0887"
             ],
             [
              0.1111111111111111,
              "#46039f"
             ],
             [
              0.2222222222222222,
              "#7201a8"
             ],
             [
              0.3333333333333333,
              "#9c179e"
             ],
             [
              0.4444444444444444,
              "#bd3786"
             ],
             [
              0.5555555555555556,
              "#d8576b"
             ],
             [
              0.6666666666666666,
              "#ed7953"
             ],
             [
              0.7777777777777778,
              "#fb9f3a"
             ],
             [
              0.8888888888888888,
              "#fdca26"
             ],
             [
              1,
              "#f0f921"
             ]
            ],
            "type": "histogram2d"
           }
          ],
          "histogram2dcontour": [
           {
            "colorbar": {
             "outlinewidth": 0,
             "ticks": ""
            },
            "colorscale": [
             [
              0,
              "#0d0887"
             ],
             [
              0.1111111111111111,
              "#46039f"
             ],
             [
              0.2222222222222222,
              "#7201a8"
             ],
             [
              0.3333333333333333,
              "#9c179e"
             ],
             [
              0.4444444444444444,
              "#bd3786"
             ],
             [
              0.5555555555555556,
              "#d8576b"
             ],
             [
              0.6666666666666666,
              "#ed7953"
             ],
             [
              0.7777777777777778,
              "#fb9f3a"
             ],
             [
              0.8888888888888888,
              "#fdca26"
             ],
             [
              1,
              "#f0f921"
             ]
            ],
            "type": "histogram2dcontour"
           }
          ],
          "mesh3d": [
           {
            "colorbar": {
             "outlinewidth": 0,
             "ticks": ""
            },
            "type": "mesh3d"
           }
          ],
          "parcoords": [
           {
            "line": {
             "colorbar": {
              "outlinewidth": 0,
              "ticks": ""
             }
            },
            "type": "parcoords"
           }
          ],
          "pie": [
           {
            "automargin": true,
            "type": "pie"
           }
          ],
          "scatter": [
           {
            "marker": {
             "colorbar": {
              "outlinewidth": 0,
              "ticks": ""
             }
            },
            "type": "scatter"
           }
          ],
          "scatter3d": [
           {
            "line": {
             "colorbar": {
              "outlinewidth": 0,
              "ticks": ""
             }
            },
            "marker": {
             "colorbar": {
              "outlinewidth": 0,
              "ticks": ""
             }
            },
            "type": "scatter3d"
           }
          ],
          "scattercarpet": [
           {
            "marker": {
             "colorbar": {
              "outlinewidth": 0,
              "ticks": ""
             }
            },
            "type": "scattercarpet"
           }
          ],
          "scattergeo": [
           {
            "marker": {
             "colorbar": {
              "outlinewidth": 0,
              "ticks": ""
             }
            },
            "type": "scattergeo"
           }
          ],
          "scattergl": [
           {
            "marker": {
             "colorbar": {
              "outlinewidth": 0,
              "ticks": ""
             }
            },
            "type": "scattergl"
           }
          ],
          "scattermapbox": [
           {
            "marker": {
             "colorbar": {
              "outlinewidth": 0,
              "ticks": ""
             }
            },
            "type": "scattermapbox"
           }
          ],
          "scatterpolar": [
           {
            "marker": {
             "colorbar": {
              "outlinewidth": 0,
              "ticks": ""
             }
            },
            "type": "scatterpolar"
           }
          ],
          "scatterpolargl": [
           {
            "marker": {
             "colorbar": {
              "outlinewidth": 0,
              "ticks": ""
             }
            },
            "type": "scatterpolargl"
           }
          ],
          "scatterternary": [
           {
            "marker": {
             "colorbar": {
              "outlinewidth": 0,
              "ticks": ""
             }
            },
            "type": "scatterternary"
           }
          ],
          "surface": [
           {
            "colorbar": {
             "outlinewidth": 0,
             "ticks": ""
            },
            "colorscale": [
             [
              0,
              "#0d0887"
             ],
             [
              0.1111111111111111,
              "#46039f"
             ],
             [
              0.2222222222222222,
              "#7201a8"
             ],
             [
              0.3333333333333333,
              "#9c179e"
             ],
             [
              0.4444444444444444,
              "#bd3786"
             ],
             [
              0.5555555555555556,
              "#d8576b"
             ],
             [
              0.6666666666666666,
              "#ed7953"
             ],
             [
              0.7777777777777778,
              "#fb9f3a"
             ],
             [
              0.8888888888888888,
              "#fdca26"
             ],
             [
              1,
              "#f0f921"
             ]
            ],
            "type": "surface"
           }
          ],
          "table": [
           {
            "cells": {
             "fill": {
              "color": "#EBF0F8"
             },
             "line": {
              "color": "white"
             }
            },
            "header": {
             "fill": {
              "color": "#C8D4E3"
             },
             "line": {
              "color": "white"
             }
            },
            "type": "table"
           }
          ]
         },
         "layout": {
          "annotationdefaults": {
           "arrowcolor": "#2a3f5f",
           "arrowhead": 0,
           "arrowwidth": 1
          },
          "autotypenumbers": "strict",
          "coloraxis": {
           "colorbar": {
            "outlinewidth": 0,
            "ticks": ""
           }
          },
          "colorscale": {
           "diverging": [
            [
             0,
             "#8e0152"
            ],
            [
             0.1,
             "#c51b7d"
            ],
            [
             0.2,
             "#de77ae"
            ],
            [
             0.3,
             "#f1b6da"
            ],
            [
             0.4,
             "#fde0ef"
            ],
            [
             0.5,
             "#f7f7f7"
            ],
            [
             0.6,
             "#e6f5d0"
            ],
            [
             0.7,
             "#b8e186"
            ],
            [
             0.8,
             "#7fbc41"
            ],
            [
             0.9,
             "#4d9221"
            ],
            [
             1,
             "#276419"
            ]
           ],
           "sequential": [
            [
             0,
             "#0d0887"
            ],
            [
             0.1111111111111111,
             "#46039f"
            ],
            [
             0.2222222222222222,
             "#7201a8"
            ],
            [
             0.3333333333333333,
             "#9c179e"
            ],
            [
             0.4444444444444444,
             "#bd3786"
            ],
            [
             0.5555555555555556,
             "#d8576b"
            ],
            [
             0.6666666666666666,
             "#ed7953"
            ],
            [
             0.7777777777777778,
             "#fb9f3a"
            ],
            [
             0.8888888888888888,
             "#fdca26"
            ],
            [
             1,
             "#f0f921"
            ]
           ],
           "sequentialminus": [
            [
             0,
             "#0d0887"
            ],
            [
             0.1111111111111111,
             "#46039f"
            ],
            [
             0.2222222222222222,
             "#7201a8"
            ],
            [
             0.3333333333333333,
             "#9c179e"
            ],
            [
             0.4444444444444444,
             "#bd3786"
            ],
            [
             0.5555555555555556,
             "#d8576b"
            ],
            [
             0.6666666666666666,
             "#ed7953"
            ],
            [
             0.7777777777777778,
             "#fb9f3a"
            ],
            [
             0.8888888888888888,
             "#fdca26"
            ],
            [
             1,
             "#f0f921"
            ]
           ]
          },
          "colorway": [
           "#636efa",
           "#EF553B",
           "#00cc96",
           "#ab63fa",
           "#FFA15A",
           "#19d3f3",
           "#FF6692",
           "#B6E880",
           "#FF97FF",
           "#FECB52"
          ],
          "font": {
           "color": "#2a3f5f"
          },
          "geo": {
           "bgcolor": "white",
           "lakecolor": "white",
           "landcolor": "#E5ECF6",
           "showlakes": true,
           "showland": true,
           "subunitcolor": "white"
          },
          "hoverlabel": {
           "align": "left"
          },
          "hovermode": "closest",
          "mapbox": {
           "style": "light"
          },
          "paper_bgcolor": "white",
          "plot_bgcolor": "#E5ECF6",
          "polar": {
           "angularaxis": {
            "gridcolor": "white",
            "linecolor": "white",
            "ticks": ""
           },
           "bgcolor": "#E5ECF6",
           "radialaxis": {
            "gridcolor": "white",
            "linecolor": "white",
            "ticks": ""
           }
          },
          "scene": {
           "xaxis": {
            "backgroundcolor": "#E5ECF6",
            "gridcolor": "white",
            "gridwidth": 2,
            "linecolor": "white",
            "showbackground": true,
            "ticks": "",
            "zerolinecolor": "white"
           },
           "yaxis": {
            "backgroundcolor": "#E5ECF6",
            "gridcolor": "white",
            "gridwidth": 2,
            "linecolor": "white",
            "showbackground": true,
            "ticks": "",
            "zerolinecolor": "white"
           },
           "zaxis": {
            "backgroundcolor": "#E5ECF6",
            "gridcolor": "white",
            "gridwidth": 2,
            "linecolor": "white",
            "showbackground": true,
            "ticks": "",
            "zerolinecolor": "white"
           }
          },
          "shapedefaults": {
           "line": {
            "color": "#2a3f5f"
           }
          },
          "ternary": {
           "aaxis": {
            "gridcolor": "white",
            "linecolor": "white",
            "ticks": ""
           },
           "baxis": {
            "gridcolor": "white",
            "linecolor": "white",
            "ticks": ""
           },
           "bgcolor": "#E5ECF6",
           "caxis": {
            "gridcolor": "white",
            "linecolor": "white",
            "ticks": ""
           }
          },
          "title": {
           "x": 0.05
          },
          "xaxis": {
           "automargin": true,
           "gridcolor": "white",
           "linecolor": "white",
           "ticks": "",
           "title": {
            "standoff": 15
           },
           "zerolinecolor": "white",
           "zerolinewidth": 2
          },
          "yaxis": {
           "automargin": true,
           "gridcolor": "white",
           "linecolor": "white",
           "ticks": "",
           "title": {
            "standoff": 15
           },
           "zerolinecolor": "white",
           "zerolinewidth": 2
          }
         }
        },
        "title": {
         "text": "Riesgo Distribuido por Activo"
        }
       }
      }
     },
     "metadata": {}
    }
   ],
   "metadata": {}
  },
  {
   "cell_type": "code",
   "execution_count": null,
   "source": [],
   "outputs": [],
   "metadata": {}
  }
 ],
 "metadata": {
  "orig_nbformat": 4,
  "language_info": {
   "name": "python",
   "version": "3.9.6",
   "mimetype": "text/x-python",
   "codemirror_mode": {
    "name": "ipython",
    "version": 3
   },
   "pygments_lexer": "ipython3",
   "nbconvert_exporter": "python",
   "file_extension": ".py"
  },
  "kernelspec": {
   "name": "python3",
   "display_name": "Python 3.9.6 64-bit"
  },
  "interpreter": {
   "hash": "aee8b7b246df8f9039afb4144a1f6fd8d2ca17a180786b69acc140d282b71a49"
  }
 },
 "nbformat": 4,
 "nbformat_minor": 2
}